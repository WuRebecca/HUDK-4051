{
 "cells": [
  {
   "cell_type": "code",
   "execution_count": 2,
   "id": "7ff61c92",
   "metadata": {},
   "outputs": [],
   "source": [
    "#Introduction to SQL"
   ]
  },
  {
   "cell_type": "code",
   "execution_count": 1,
   "id": "f5e32b93",
   "metadata": {},
   "outputs": [],
   "source": [
    "#SQL, which stands for Structured Query Language, is a language for interacting with data stored in something called a relational\n",
    "#database.\n",
    "\n",
    "#You can think of a relational database as a collection of tables. A table is just a set of rows and columns, like a spreadsheet, which\n",
    "#represents exactly one type of entity. For example, a table might represent employees in a company or purchases made, but not both.\n",
    "\n",
    "#Each row, or record, of a table contains information about a single entity. For example, in a table representing employees, each row\n",
    "#represents a single person. Each column, or field, of a table contains a single attribute for all rows in the table. For example, in a\n",
    "#table representing employees, we might have a column containing first and last names for all employees."
   ]
  },
  {
   "cell_type": "code",
   "execution_count": null,
   "id": "847b7c17",
   "metadata": {},
   "outputs": [],
   "source": [
    "#SELECTing single columns"
   ]
  },
  {
   "cell_type": "code",
   "execution_count": null,
   "id": "b29b6b15",
   "metadata": {},
   "outputs": [],
   "source": [
    "#In SQL, you can select data from a table using a SELECT statement. For example, the following query selects the name column from the\n",
    "#people table:\n",
    "\n",
    "#SELECT name\n",
    "#FROM people;"
   ]
  },
  {
   "cell_type": "code",
   "execution_count": null,
   "id": "6b9281ef",
   "metadata": {},
   "outputs": [],
   "source": [
    "#SELECTing multiple columns"
   ]
  },
  {
   "cell_type": "code",
   "execution_count": null,
   "id": "e4c96dbe",
   "metadata": {},
   "outputs": [],
   "source": [
    "#In the real world, you will often want to select multiple columns. Luckily, SQL makes this really easy. To select multiple columns from\n",
    "#a table, simply separate the column names with commas!\n",
    "\n",
    "#For example, this query selects two columns, name and birthdate, from the people table:\n",
    "\n",
    "#SELECT name, birthdate\n",
    "#FROM people;"
   ]
  },
  {
   "cell_type": "code",
   "execution_count": null,
   "id": "093175e8",
   "metadata": {},
   "outputs": [],
   "source": [
    "#SELECT DISTINCT"
   ]
  },
  {
   "cell_type": "code",
   "execution_count": null,
   "id": "b36da488",
   "metadata": {},
   "outputs": [],
   "source": [
    "#Often your results will include many duplicate values. If you want to select all the unique values from a column, you can use the\n",
    "#DISTINCT keyword.\n",
    "\n",
    "#This might be useful if, for example, you're interested in knowing which languages are represented in the films table:\n",
    "\n",
    "#SELECT DISTINCT language\n",
    "#FROM films;"
   ]
  },
  {
   "cell_type": "code",
   "execution_count": null,
   "id": "bb98e00e",
   "metadata": {},
   "outputs": [],
   "source": [
    "#Learning to COUNT"
   ]
  },
  {
   "cell_type": "code",
   "execution_count": null,
   "id": "4942f1f7",
   "metadata": {},
   "outputs": [],
   "source": [
    "#What if you want to count the number of employees in your employees table? The COUNT() function lets you do this by returning the number\n",
    "#of rows in one or more columns.\n",
    "\n",
    "#For example, this code gives the number of rows in the people table:\n",
    "\n",
    "#SELECT COUNT(*)\n",
    "#FROM people;"
   ]
  },
  {
   "cell_type": "code",
   "execution_count": null,
   "id": "ce6a4d0d",
   "metadata": {},
   "outputs": [],
   "source": [
    "#As you've seen, COUNT(*) tells you how many rows are in a table. However, if you want to count the number of non-missing values in a\n",
    "#particular column, you can call COUNT() on just that column.\n",
    "\n",
    "#For example, to count the number of birth dates present in the people table:\n",
    "\n",
    "#SELECT COUNT(birthdate)\n",
    "#FROM people;"
   ]
  },
  {
   "cell_type": "code",
   "execution_count": null,
   "id": "a841b2d2",
   "metadata": {},
   "outputs": [],
   "source": [
    "#Filtering Results\n",
    "#In SQL, the WHERE keyword allows you to filter based on both text and numeric values in a table. There are a few different comparison\n",
    "#operators you can use:\n",
    "#  = equal\n",
    "#  <> not equal\n",
    "#  < less than\n",
    "#  > greater than\n",
    "#  <= less than or equal to\n",
    "#  >= greater than or equal to\n"
   ]
  },
  {
   "cell_type": "code",
   "execution_count": null,
   "id": "6c71fd0d",
   "metadata": {},
   "outputs": [],
   "source": [
    "#Simple filtering of numeric values\n",
    "#As you learned in the previous exercise, the WHERE clause can also be used to filter numeric records, such as years or ages."
   ]
  },
  {
   "cell_type": "code",
   "execution_count": null,
   "id": "b8042445",
   "metadata": {},
   "outputs": [],
   "source": [
    "#Simple filtering of text\n",
    "#Remember, the WHERE clause can also be used to filter text results, such as names or countries."
   ]
  },
  {
   "cell_type": "code",
   "execution_count": null,
   "id": "b40f59ba",
   "metadata": {},
   "outputs": [],
   "source": [
    "#WHERE AND\n",
    "#Often, you'll want to select data based on multiple conditions. You can build up your WHERE queries by combining multiple conditions \n",
    "#with the AND keyword."
   ]
  },
  {
   "cell_type": "code",
   "execution_count": null,
   "id": "71af7aec",
   "metadata": {},
   "outputs": [],
   "source": [
    "#WHERE AND OR\n",
    "#What if you want to select rows based on multiple conditions where some but not all of the conditions need to be met? For this, SQL \n",
    "#has the OR operator."
   ]
  },
  {
   "cell_type": "code",
   "execution_count": null,
   "id": "a7a6bb88",
   "metadata": {},
   "outputs": [],
   "source": [
    "#WHERE AND OR (2)\n",
    "#You now know how to select rows that meet some but not all conditions by combining AND and OR."
   ]
  },
  {
   "cell_type": "code",
   "execution_count": null,
   "id": "2097feec",
   "metadata": {},
   "outputs": [],
   "source": [
    "#BETWEEN\n",
    "#Checking for ranges like this is very common, so in SQL the BETWEEN keyword provides a useful shorthand for filtering values within a specified range. This query is equivalent to the one above:"
   ]
  },
  {
   "cell_type": "code",
   "execution_count": null,
   "id": "68badc35",
   "metadata": {},
   "outputs": [],
   "source": [
    "#BETWEEN (2)\n",
    "#Similar to the WHERE clause, the BETWEEN clause can be used with multiple AND and OR operators, so you can build up your queries\n",
    "#and make them even more powerful!\n",
    "#For example, suppose we have a table called kids. We can get the names of all kids between the ages of 2 and 12 from the United States:\n"
   ]
  },
  {
   "cell_type": "code",
   "execution_count": null,
   "id": "9e860e46",
   "metadata": {},
   "outputs": [],
   "source": [
    "#WHERE IN\n",
    "#As you've seen, WHERE is very useful for filtering results. However, if you want to filter based on many conditions, WHERE can get unwieldy. "
   ]
  },
  {
   "cell_type": "code",
   "execution_count": null,
   "id": "0f3cdb87",
   "metadata": {},
   "outputs": [],
   "source": [
    "#Introduction to NULL and IS NULL\n",
    "#In SQL, NULL represents a missing or unknown value. You can check for NULL values using the expression IS NULL. For example, to \n",
    "#count the number of missing birth dates in the people table:"
   ]
  },
  {
   "cell_type": "code",
   "execution_count": null,
   "id": "44bdbaf1",
   "metadata": {},
   "outputs": [],
   "source": [
    "#LIKE and NOT LIKE\n",
    "#As you've seen, the WHERE clause can be used to filter text data. However, so far you've only been able to filter by specifying the \n",
    "#exact text you're interested in. In the real world, often you'll want to search for a pattern rather than a specific text string.\n",
    "#In SQL, the LIKE operator can be used in a WHERE clause to search for a pattern in a column. To accomplish this, you use something\n",
    "#called a wildcard as a placeholder for some other values. There are two wildcards you can use with LIKE:\n",
    "#The % wildcard will match zero, one, or many characters in text. For example, the following query matches companies like 'Data', \n",
    "#'DataC' 'DataCamp', 'DataMind', and so on:"
   ]
  },
  {
   "cell_type": "code",
   "execution_count": null,
   "id": "e211c0f0",
   "metadata": {},
   "outputs": [],
   "source": [
    "#Aggregate functions\n",
    "#Often, you will want to perform some calculation on the data in a database. SQL provides a few functions, called aggregate functions, \n",
    "#to help you out with this."
   ]
  },
  {
   "cell_type": "code",
   "execution_count": null,
   "id": "3bcd549b",
   "metadata": {},
   "outputs": [],
   "source": [
    "#Combining aggregate functions with WHERE\n",
    "#Aggregate functions can be combined with the WHERE clause to gain further insights from your data.\n",
    "#For example, to get the total budget of movies made in the year 2010 or later:"
   ]
  },
  {
   "cell_type": "code",
   "execution_count": null,
   "id": "7b499d1f",
   "metadata": {},
   "outputs": [],
   "source": [
    "#A note on arithmetic\n",
    "#In addition to using aggregate functions, you can perform basic arithmetic with symbols like +, -, *, and /.\n",
    "#So, for example, this gives a result of 12:"
   ]
  },
  {
   "cell_type": "code",
   "execution_count": null,
   "id": "9e4743dd",
   "metadata": {},
   "outputs": [],
   "source": [
    "#It's AS simple AS aliasing\n",
    "#You may have noticed in the first exercise of this chapter that the column name of your result was just the name of the function you used. "
   ]
  },
  {
   "cell_type": "code",
   "execution_count": null,
   "id": "9bba816c",
   "metadata": {},
   "outputs": [],
   "source": [
    "#ORDER BY\n",
    "#Congratulations on making it this far! You now know how to select and filter your results.\n",
    "#In this chapter you'll learn how to sort and group your results to gain further insight. Let's go!\n",
    "#In SQL, the ORDER BY keyword is used to sort results in ascending or descending order according to the values of one or more columns.\n",
    "#By default ORDER BY will sort in ascending order. If you want to sort the results in descending order, you can use the DESC keyword. \n",
    "#For example,"
   ]
  },
  {
   "cell_type": "code",
   "execution_count": null,
   "id": "9736e487",
   "metadata": {},
   "outputs": [],
   "source": [
    "#Sorting single columns (DESC)\n",
    "#To order results in descending order, you can put the keyword DESC after your ORDER BY. For example, to get all the names in the \n",
    "#people table, in reverse alphabetical order:\n"
   ]
  },
  {
   "cell_type": "code",
   "execution_count": null,
   "id": "53e2f114",
   "metadata": {},
   "outputs": [],
   "source": [
    "#Sorting multiple columns\n",
    "#ORDER BY can also be used to sort on multiple columns. It will sort by the first column specified, then sort by the next, then the next,\n",
    "#and so on. For example,"
   ]
  },
  {
   "cell_type": "code",
   "execution_count": null,
   "id": "ffa2b4b3",
   "metadata": {},
   "outputs": [],
   "source": [
    "#GROUP BY\n",
    "#Now you know how to sort results! Often you'll need to aggregate results. For example, you might want to count the number of male and \n",
    "#female employees in your company. Here, what you want is to group all the males together and count them, and group all the females \n",
    "#together and count them. In SQL, GROUP BY allows you to group a result by one or more columns, "
   ]
  },
  {
   "cell_type": "code",
   "execution_count": null,
   "id": "551935bb",
   "metadata": {},
   "outputs": [],
   "source": [
    "#GROUP BY practice\n",
    "#As you've just seen, combining aggregate functions with GROUP BY can yield some powerful results!\n",
    "#A word of warning: SQL will return an error if you try to SELECT a field that is not in your GROUP BY clause without using it to \n",
    "#calculate some kind of value about the entire group.\n",
    "#Note that you can combine GROUP BY with ORDER BY to group your results, calculate something about them, and then order your results. "
   ]
  },
  {
   "cell_type": "code",
   "execution_count": null,
   "id": "00247c01",
   "metadata": {},
   "outputs": [],
   "source": [
    "#GROUP BY practice (2)\n",
    "#Now practice your new skills by combining GROUP BY and ORDER BY with some more aggregate functions!\n",
    "#Make sure to always put the ORDER BY clause at the end of your query. You can't sort values that you haven't calculated yet!"
   ]
  },
  {
   "cell_type": "code",
   "execution_count": null,
   "id": "5e75114e",
   "metadata": {},
   "outputs": [],
   "source": [
    "#HAVING a great time\n",
    "#In SQL, aggregate functions can't be used in WHERE clauses. "
   ]
  },
  {
   "cell_type": "code",
   "execution_count": null,
   "id": "a71085c6",
   "metadata": {},
   "outputs": [],
   "source": []
  }
 ],
 "metadata": {
  "kernelspec": {
   "display_name": "Python 3",
   "language": "python",
   "name": "python3"
  },
  "language_info": {
   "codemirror_mode": {
    "name": "ipython",
    "version": 3
   },
   "file_extension": ".py",
   "mimetype": "text/x-python",
   "name": "python",
   "nbconvert_exporter": "python",
   "pygments_lexer": "ipython3",
   "version": "3.8.8"
  }
 },
 "nbformat": 4,
 "nbformat_minor": 5
}
