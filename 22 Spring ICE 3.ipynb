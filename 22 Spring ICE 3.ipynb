{
 "cells": [
  {
   "cell_type": "code",
   "execution_count": 2,
   "id": "2a43ae33",
   "metadata": {},
   "outputs": [
    {
     "name": "stdout",
     "output_type": "stream",
     "text": [
      "Looking in indexes: https://mirrors.cloud.tencent.com/pypi/simple\n",
      "Collecting pyBKT\n",
      "  Downloading https://mirrors.cloud.tencent.com/pypi/packages/71/69/6b5e0169b2167cde787cdd1200582307994d35f012c5c499e7c09db50fc4/pyBKT-1.4.tar.gz (32.7 MB)\n",
      "Requirement already satisfied: numpy in d:\\programfiles\\anaconda\\lib\\site-packages (from pyBKT) (1.20.1)\n",
      "Collecting sklearn\n",
      "  Downloading https://mirrors.cloud.tencent.com/pypi/packages/1e/7a/dbb3be0ce9bd5c8b7e3d87328e79063f8b263b2b1bfa4774cb1147bfcd3f/sklearn-0.0.tar.gz (1.1 kB)\n",
      "Requirement already satisfied: pandas in d:\\programfiles\\anaconda\\lib\\site-packages (from pyBKT) (1.2.4)\n",
      "Requirement already satisfied: requests in d:\\programfiles\\anaconda\\lib\\site-packages (from pyBKT) (2.25.1)\n",
      "Requirement already satisfied: python-dateutil>=2.7.3 in d:\\programfiles\\anaconda\\lib\\site-packages (from pandas->pyBKT) (2.8.1)\n",
      "Requirement already satisfied: pytz>=2017.3 in d:\\programfiles\\anaconda\\lib\\site-packages (from pandas->pyBKT) (2021.1)\n",
      "Requirement already satisfied: six>=1.5 in d:\\programfiles\\anaconda\\lib\\site-packages (from python-dateutil>=2.7.3->pandas->pyBKT) (1.15.0)\n",
      "Requirement already satisfied: certifi>=2017.4.17 in d:\\programfiles\\anaconda\\lib\\site-packages (from requests->pyBKT) (2020.12.5)\n",
      "Requirement already satisfied: chardet<5,>=3.0.2 in d:\\programfiles\\anaconda\\lib\\site-packages (from requests->pyBKT) (4.0.0)\n",
      "Requirement already satisfied: urllib3<1.27,>=1.21.1 in d:\\programfiles\\anaconda\\lib\\site-packages (from requests->pyBKT) (1.26.4)\n",
      "Requirement already satisfied: idna<3,>=2.5 in d:\\programfiles\\anaconda\\lib\\site-packages (from requests->pyBKT) (2.10)\n",
      "Requirement already satisfied: scikit-learn in d:\\programfiles\\anaconda\\lib\\site-packages (from sklearn->pyBKT) (0.23.0)\n",
      "Requirement already satisfied: threadpoolctl>=2.0.0 in d:\\programfiles\\anaconda\\lib\\site-packages (from scikit-learn->sklearn->pyBKT) (2.1.0)\n",
      "Requirement already satisfied: scipy>=0.19.1 in d:\\programfiles\\anaconda\\lib\\site-packages (from scikit-learn->sklearn->pyBKT) (1.6.2)\n",
      "Requirement already satisfied: joblib>=0.11 in d:\\programfiles\\anaconda\\lib\\site-packages (from scikit-learn->sklearn->pyBKT) (1.0.1)\n",
      "Building wheels for collected packages: pyBKT, sklearn\n",
      "  Building wheel for pyBKT (setup.py): started\n",
      "  Building wheel for pyBKT (setup.py): finished with status 'done'\n",
      "  Created wheel for pyBKT: filename=pyBKT-1.4-py3-none-any.whl size=34391 sha256=8d0a5f38e1b1b8378f90f88c8d948e36f18ebcb942d5d96c5fac9cb397511eaf\n",
      "  Stored in directory: c:\\users\\rebeccaw\\appdata\\local\\pip\\cache\\wheels\\26\\19\\72\\73c4fdab4392a541dd770614eba0fd0d47c77578366f0dbd80\n",
      "  Building wheel for sklearn (setup.py): started\n",
      "  Building wheel for sklearn (setup.py): finished with status 'done'\n",
      "  Created wheel for sklearn: filename=sklearn-0.0-py2.py3-none-any.whl size=1316 sha256=fc14eff37d9cc3d38f86b5d3583de9f932f33127c2e35de8263bd607f970fabb\n",
      "  Stored in directory: c:\\users\\rebeccaw\\appdata\\local\\pip\\cache\\wheels\\1a\\bc\\6c\\dc3e4a85f1629323c44c42b625a3bed563538bca973b6e67d3\n",
      "Successfully built pyBKT sklearn\n",
      "Installing collected packages: sklearn, pyBKT\n",
      "Successfully installed pyBKT-1.4 sklearn-0.0\n"
     ]
    }
   ],
   "source": [
    "# Install pyBKT from pip!\n",
    "# I used another sourse because the one in the tutorial does \n",
    "#not work on my laptop\n",
    "# I spent so many time on it, but it never worked\n",
    "!pip install pyBKT -i https://mirrors.cloud.tencent.com/pypi/simple --trusted-host mirrors.cloud.tencent.com"
   ]
  },
  {
   "cell_type": "code",
   "execution_count": 3,
   "id": "8580f3eb",
   "metadata": {},
   "outputs": [],
   "source": [
    "# Import all required packages including pyBKT.models.Model!\n",
    "import numpy as np\n",
    "import pandas as pd\n",
    "from pyBKT.models import Model\n",
    "import matplotlib.pyplot as plt"
   ]
  },
  {
   "cell_type": "code",
   "execution_count": 4,
   "id": "50542ff6",
   "metadata": {},
   "outputs": [],
   "source": [
    "# Note that the seed chosen is so we can consistently replicate\n",
    "#the results and avoid as much randomness as possible.\n",
    "model = Model(seed = 42, num_fits = 1)"
   ]
  },
  {
   "cell_type": "code",
   "execution_count": 5,
   "id": "94e08a10",
   "metadata": {
    "scrolled": true
   },
   "outputs": [
    {
     "ename": "SyntaxError",
     "evalue": "invalid character in identifier (<ipython-input-5-4e734055d794>, line 1)",
     "output_type": "error",
     "traceback": [
      "\u001b[1;36m  File \u001b[1;32m\"<ipython-input-5-4e734055d794>\"\u001b[1;36m, line \u001b[1;32m1\u001b[0m\n\u001b[1;33m    model.fetch_dataset('https://raw.githubusercontent.com/CAHLR/pyBKT-examples/master/data/as.csv', '.')\u001b[0m\n\u001b[1;37m                                                                                                    ^\u001b[0m\n\u001b[1;31mSyntaxError\u001b[0m\u001b[1;31m:\u001b[0m invalid character in identifier\n"
     ]
    }
   ],
   "source": [
    "# I tried two different laptops and multiple different ways to \n",
    "# enter the code and copy and paste the code, but it never \n",
    "# worked.\n",
    "# I spent so much time on this...\n",
    "# Sad...\n",
    "model.fetch_dataset('https://raw.githubusercontent.com/CAHLR/pyBKT-examples/master/data/as.csv', '.')\n",
    "model.fetch_dataset('https://raw.githubusercontent.com/CAHLR/pyBKT-examples/master/data/ct.csv', '.')"
   ]
  },
  {
   "cell_type": "code",
   "execution_count": null,
   "id": "a6efe5d6",
   "metadata": {},
   "outputs": [],
   "source": [
    "# So I went ahead and took some notes on \n",
    "# Bayesian Knowledge Tracing or BKT"
   ]
  },
  {
   "cell_type": "code",
   "execution_count": null,
   "id": "25ec40c5",
   "metadata": {},
   "outputs": [],
   "source": [
    "# Bayesian Knowledge Tracing, or BKT, is an artificial \n",
    "#intelligence algorithm that lets us infer a student's current \n",
    "#knowledge state to predict if they have learned a skill."
   ]
  },
  {
   "cell_type": "code",
   "execution_count": null,
   "id": "7c6a9d12",
   "metadata": {},
   "outputs": [],
   "source": [
    "# There are four parameters involved in BKT (each with a value \n",
    "#between 0 and 1, inclusive)"
   ]
  },
  {
   "cell_type": "code",
   "execution_count": null,
   "id": "37b289b8",
   "metadata": {},
   "outputs": [],
   "source": [
    "# P(known): the probability that the student already knew a \n",
    "#skill.\n",
    "\n",
    "# P(will learn): the probability that the student will learn a \n",
    "#skill on the next practice opportunity.\n",
    "\n",
    "# P(slip): the probability that the student will answer \n",
    "#incorrectly despite knowing a skill.\n",
    "\n",
    "\n",
    "#P(guess): the probability that the student will answer \n",
    "#correctly despite not knowing a skill."
   ]
  },
  {
   "cell_type": "code",
   "execution_count": null,
   "id": "245bd1f8",
   "metadata": {},
   "outputs": [],
   "source": [
    "# Every time the student answers a question, our BKT algorithm \n",
    "#calculates P(learned), the probability that the student has \n",
    "# learned the skill they are working on, using the values of \n",
    "# these parameters. The formula for P(learned) depends on \n",
    "# whether their response was correct."
   ]
  },
  {
   "cell_type": "code",
   "execution_count": null,
   "id": "65f22eff",
   "metadata": {},
   "outputs": [],
   "source": [
    "# Item-Reponse Theory"
   ]
  },
  {
   "cell_type": "code",
   "execution_count": null,
   "id": "523c9592",
   "metadata": {},
   "outputs": [],
   "source": [
    "# Item-response theory represent a different approach to infer \n",
    "#latent knoledge. Instead of viewing the response (of a \n",
    "#particular task) being an probablistic outcome of knowledge, \n",
    "#we can assume that the response changes as a function of \n",
    "#knowledge/ability and task difficulty. So this assumption help \n",
    "#us model someone's knowledge in a more logistic way. Similarly,\n",
    "#we can model more factors such as guessing in knowledge tracing.\n",
    "#But the nice thing about IRT is the result gives us not only an\n",
    "#estimation of someone's knwoledge state, but also an estimation\n",
    "#on task difficulty. In fact, what IRT model initially estimate \n",
    "#the the task difficulty, which is a very important issue in the\n",
    "#psychometrics world. And once task difficulty is obtained, we \n",
    "#then infer the respondents' ability."
   ]
  },
  {
   "cell_type": "code",
   "execution_count": null,
   "id": "a64d71ee",
   "metadata": {},
   "outputs": [],
   "source": []
  },
  {
   "cell_type": "code",
   "execution_count": null,
   "id": "35e01646",
   "metadata": {},
   "outputs": [],
   "source": []
  },
  {
   "cell_type": "code",
   "execution_count": null,
   "id": "02ee8502",
   "metadata": {},
   "outputs": [],
   "source": []
  },
  {
   "cell_type": "code",
   "execution_count": null,
   "id": "6307deb5",
   "metadata": {},
   "outputs": [],
   "source": []
  },
  {
   "cell_type": "code",
   "execution_count": null,
   "id": "13cbb8e9",
   "metadata": {},
   "outputs": [],
   "source": []
  }
 ],
 "metadata": {
  "kernelspec": {
   "display_name": "Python 3",
   "language": "python",
   "name": "python3"
  },
  "language_info": {
   "codemirror_mode": {
    "name": "ipython",
    "version": 3
   },
   "file_extension": ".py",
   "mimetype": "text/x-python",
   "name": "python",
   "nbconvert_exporter": "python",
   "pygments_lexer": "ipython3",
   "version": "3.8.8"
  }
 },
 "nbformat": 4,
 "nbformat_minor": 5
}
